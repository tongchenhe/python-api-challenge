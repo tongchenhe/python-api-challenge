{
 "cells": [
  {
   "cell_type": "markdown",
   "metadata": {},
   "source": [
    "# VacationPy\n",
    "----\n",
    "\n",
    "#### Note\n",
    "* Keep an eye on your API usage. Use https://developers.google.com/maps/reporting/gmp-reporting as reference for how to monitor your usage and billing.\n",
    "\n",
    "* Instructions have been included for each segment. You do not have to follow them exactly, but they are included to help you think through the steps."
   ]
  },
  {
   "cell_type": "code",
   "execution_count": 1,
   "metadata": {},
   "outputs": [],
   "source": [
    "# Dependencies and Setup\n",
    "import matplotlib.pyplot as plt\n",
    "import pandas as pd\n",
    "import numpy as np\n",
    "import requests\n",
    "import gmaps\n",
    "import os\n",
    "from pprint import pprint\n",
    "\n",
    "# Import API key\n",
    "from api_keys import g_key"
   ]
  },
  {
   "cell_type": "markdown",
   "metadata": {},
   "source": [
    "### Store Part I results into DataFrame\n",
    "* Load the csv exported in Part I to a DataFrame"
   ]
  },
  {
   "cell_type": "code",
   "execution_count": 2,
   "metadata": {},
   "outputs": [
    {
     "data": {
      "text/html": [
       "<div>\n",
       "<style scoped>\n",
       "    .dataframe tbody tr th:only-of-type {\n",
       "        vertical-align: middle;\n",
       "    }\n",
       "\n",
       "    .dataframe tbody tr th {\n",
       "        vertical-align: top;\n",
       "    }\n",
       "\n",
       "    .dataframe thead th {\n",
       "        text-align: right;\n",
       "    }\n",
       "</style>\n",
       "<table border=\"1\" class=\"dataframe\">\n",
       "  <thead>\n",
       "    <tr style=\"text-align: right;\">\n",
       "      <th></th>\n",
       "      <th>Unnamed: 0</th>\n",
       "      <th>City</th>\n",
       "      <th>Latitude</th>\n",
       "      <th>Longitude</th>\n",
       "      <th>Max Temp</th>\n",
       "      <th>Humidity</th>\n",
       "      <th>Cloudiness</th>\n",
       "      <th>Wind Speed</th>\n",
       "      <th>Country</th>\n",
       "      <th>Date</th>\n",
       "    </tr>\n",
       "  </thead>\n",
       "  <tbody>\n",
       "    <tr>\n",
       "      <th>0</th>\n",
       "      <td>0</td>\n",
       "      <td>Ancud</td>\n",
       "      <td>-41.8697</td>\n",
       "      <td>-73.8203</td>\n",
       "      <td>42.22</td>\n",
       "      <td>75</td>\n",
       "      <td>13</td>\n",
       "      <td>4.59</td>\n",
       "      <td>CL</td>\n",
       "      <td>1660779196</td>\n",
       "    </tr>\n",
       "    <tr>\n",
       "      <th>1</th>\n",
       "      <td>1</td>\n",
       "      <td>Jamestown</td>\n",
       "      <td>42.0970</td>\n",
       "      <td>-79.2353</td>\n",
       "      <td>71.19</td>\n",
       "      <td>82</td>\n",
       "      <td>0</td>\n",
       "      <td>0.00</td>\n",
       "      <td>US</td>\n",
       "      <td>1660778816</td>\n",
       "    </tr>\n",
       "    <tr>\n",
       "      <th>2</th>\n",
       "      <td>2</td>\n",
       "      <td>Kutulik</td>\n",
       "      <td>53.3508</td>\n",
       "      <td>102.7839</td>\n",
       "      <td>50.14</td>\n",
       "      <td>80</td>\n",
       "      <td>99</td>\n",
       "      <td>1.52</td>\n",
       "      <td>RU</td>\n",
       "      <td>1660779197</td>\n",
       "    </tr>\n",
       "    <tr>\n",
       "      <th>3</th>\n",
       "      <td>3</td>\n",
       "      <td>Vao</td>\n",
       "      <td>-22.6667</td>\n",
       "      <td>167.4833</td>\n",
       "      <td>61.95</td>\n",
       "      <td>90</td>\n",
       "      <td>100</td>\n",
       "      <td>17.45</td>\n",
       "      <td>NC</td>\n",
       "      <td>1660779198</td>\n",
       "    </tr>\n",
       "    <tr>\n",
       "      <th>4</th>\n",
       "      <td>4</td>\n",
       "      <td>Yeppoon</td>\n",
       "      <td>-23.1333</td>\n",
       "      <td>150.7333</td>\n",
       "      <td>60.58</td>\n",
       "      <td>45</td>\n",
       "      <td>0</td>\n",
       "      <td>0.98</td>\n",
       "      <td>AU</td>\n",
       "      <td>1660779198</td>\n",
       "    </tr>\n",
       "  </tbody>\n",
       "</table>\n",
       "</div>"
      ],
      "text/plain": [
       "   Unnamed: 0       City  Latitude  Longitude  Max Temp  Humidity  Cloudiness  \\\n",
       "0           0      Ancud  -41.8697   -73.8203     42.22        75          13   \n",
       "1           1  Jamestown   42.0970   -79.2353     71.19        82           0   \n",
       "2           2    Kutulik   53.3508   102.7839     50.14        80          99   \n",
       "3           3        Vao  -22.6667   167.4833     61.95        90         100   \n",
       "4           4    Yeppoon  -23.1333   150.7333     60.58        45           0   \n",
       "\n",
       "   Wind Speed Country        Date  \n",
       "0        4.59      CL  1660779196  \n",
       "1        0.00      US  1660778816  \n",
       "2        1.52      RU  1660779197  \n",
       "3       17.45      NC  1660779198  \n",
       "4        0.98      AU  1660779198  "
      ]
     },
     "execution_count": 2,
     "metadata": {},
     "output_type": "execute_result"
    }
   ],
   "source": [
    "cities_df = pd.read_csv(\"../output/cities.csv\")\n",
    "cities_df.head()\n"
   ]
  },
  {
   "cell_type": "markdown",
   "metadata": {},
   "source": [
    "### Humidity Heatmap\n",
    "* Configure gmaps.\n",
    "* Use the Lat and Lng as locations and Humidity as the weight.\n",
    "* Add Heatmap layer to map."
   ]
  },
  {
   "cell_type": "code",
   "execution_count": 3,
   "metadata": {},
   "outputs": [],
   "source": [
    "gmaps.configure(api_key=g_key)\n"
   ]
  },
  {
   "cell_type": "code",
   "execution_count": 4,
   "metadata": {},
   "outputs": [
    {
     "data": {
      "application/vnd.jupyter.widget-view+json": {
       "model_id": "8b1169dd0fc5468086ac606e7ac70f78",
       "version_major": 2,
       "version_minor": 0
      },
      "text/plain": [
       "Figure(layout=FigureLayout(height='420px'))"
      ]
     },
     "metadata": {},
     "output_type": "display_data"
    }
   ],
   "source": [
    "locations = cities_df[['Latitude', 'Longitude']].astype(float)\n",
    "weights = cities_df['Humidity']\n",
    "fig = gmaps.figure()\n",
    "heat_layer = gmaps.heatmap_layer(locations, weights=weights, \n",
    "                                    dissipating=False, max_intensity=cities_df['Humidity'].max() ,point_radius=3)\n",
    "fig.add_layer(heat_layer)\n",
    "fig"
   ]
  },
  {
   "cell_type": "markdown",
   "metadata": {},
   "source": [
    "### Create new DataFrame fitting weather criteria\n",
    "* Narrow down the cities to fit weather conditions.\n",
    "* Drop any rows will null values."
   ]
  },
  {
   "cell_type": "code",
   "execution_count": 5,
   "metadata": {},
   "outputs": [
    {
     "name": "stdout",
     "output_type": "stream",
     "text": [
      "9\n"
     ]
    }
   ],
   "source": [
    "# filter cities with ideal weather conditions\n",
    "ideal_weather_df = cities_df.loc[\n",
    "    (cities_df['Max Temp']>70) &\n",
    "    (cities_df['Max Temp']<80) &\n",
    "    (cities_df['Cloudiness']<15) &\n",
    "    (cities_df['Wind Speed']<8) &\n",
    "    (cities_df['Humidity']<45) &\n",
    "    (cities_df['Humidity']<65)\n",
    "].dropna().reset_index(drop=True)\n",
    "print(len(ideal_weather_df))"
   ]
  },
  {
   "cell_type": "markdown",
   "metadata": {},
   "source": [
    "### Hotel Map\n",
    "* Store into variable named `hotel_df`.\n",
    "* Add a \"Hotel Name\" column to the DataFrame.\n",
    "* Set parameters to search for hotels with 5000 meters.\n",
    "* Hit the Google Places API for each city's coordinates.\n",
    "* Store the first Hotel result into the DataFrame.\n",
    "* Plot markers on top of the heatmap."
   ]
  },
  {
   "cell_type": "code",
   "execution_count": 6,
   "metadata": {},
   "outputs": [
    {
     "data": {
      "text/html": [
       "<div>\n",
       "<style scoped>\n",
       "    .dataframe tbody tr th:only-of-type {\n",
       "        vertical-align: middle;\n",
       "    }\n",
       "\n",
       "    .dataframe tbody tr th {\n",
       "        vertical-align: top;\n",
       "    }\n",
       "\n",
       "    .dataframe thead th {\n",
       "        text-align: right;\n",
       "    }\n",
       "</style>\n",
       "<table border=\"1\" class=\"dataframe\">\n",
       "  <thead>\n",
       "    <tr style=\"text-align: right;\">\n",
       "      <th></th>\n",
       "      <th>Hotel Name</th>\n",
       "      <th>Lat</th>\n",
       "      <th>Lng</th>\n",
       "      <th>City</th>\n",
       "      <th>Country</th>\n",
       "    </tr>\n",
       "  </thead>\n",
       "  <tbody>\n",
       "    <tr>\n",
       "      <th>0</th>\n",
       "      <td>Diamante Rosa Palace Hotel</td>\n",
       "      <td>-18.47487</td>\n",
       "      <td>-47.188763</td>\n",
       "      <td>Coromandel</td>\n",
       "      <td>BR</td>\n",
       "    </tr>\n",
       "    <tr>\n",
       "      <th>1</th>\n",
       "      <td>Club &amp; Hotel Letoonia</td>\n",
       "      <td>36.634879</td>\n",
       "      <td>29.099307</td>\n",
       "      <td>Fethiye</td>\n",
       "      <td>TR</td>\n",
       "    </tr>\n",
       "    <tr>\n",
       "      <th>2</th>\n",
       "      <td>Hotel Camapuã</td>\n",
       "      <td>-9.827301</td>\n",
       "      <td>-45.336107</td>\n",
       "      <td>Gilbués</td>\n",
       "      <td>BR</td>\n",
       "    </tr>\n",
       "    <tr>\n",
       "      <th>3</th>\n",
       "      <td>Dumont Palace Hotel</td>\n",
       "      <td>-6.640577</td>\n",
       "      <td>-51.980267</td>\n",
       "      <td>São Félix do Xingu</td>\n",
       "      <td>BR</td>\n",
       "    </tr>\n",
       "    <tr>\n",
       "      <th>4</th>\n",
       "      <td>Hotel Star</td>\n",
       "      <td>-14.533978</td>\n",
       "      <td>-49.959249</td>\n",
       "      <td>Crixás</td>\n",
       "      <td>BR</td>\n",
       "    </tr>\n",
       "    <tr>\n",
       "      <th>5</th>\n",
       "      <td>Hotel Diniz</td>\n",
       "      <td>-5.498093</td>\n",
       "      <td>-45.252747</td>\n",
       "      <td>Barra do Corda</td>\n",
       "      <td>BR</td>\n",
       "    </tr>\n",
       "    <tr>\n",
       "      <th>6</th>\n",
       "      <td>Hotel D'Borges</td>\n",
       "      <td>-17.291719</td>\n",
       "      <td>-49.022404</td>\n",
       "      <td>Piracanjuba</td>\n",
       "      <td>BR</td>\n",
       "    </tr>\n",
       "    <tr>\n",
       "      <th>8</th>\n",
       "      <td>TANTANA HOTEL FERGANA</td>\n",
       "      <td>40.396798</td>\n",
       "      <td>71.765271</td>\n",
       "      <td>Yangi Marg`ilon</td>\n",
       "      <td>UZ</td>\n",
       "    </tr>\n",
       "  </tbody>\n",
       "</table>\n",
       "</div>"
      ],
      "text/plain": [
       "                   Hotel Name        Lat        Lng                City  \\\n",
       "0  Diamante Rosa Palace Hotel  -18.47487 -47.188763          Coromandel   \n",
       "1       Club & Hotel Letoonia  36.634879  29.099307             Fethiye   \n",
       "2               Hotel Camapuã  -9.827301 -45.336107             Gilbués   \n",
       "3         Dumont Palace Hotel  -6.640577 -51.980267  São Félix do Xingu   \n",
       "4                  Hotel Star -14.533978 -49.959249              Crixás   \n",
       "5                 Hotel Diniz  -5.498093 -45.252747      Barra do Corda   \n",
       "6              Hotel D'Borges -17.291719 -49.022404         Piracanjuba   \n",
       "8       TANTANA HOTEL FERGANA  40.396798  71.765271     Yangi Marg`ilon   \n",
       "\n",
       "  Country  \n",
       "0      BR  \n",
       "1      TR  \n",
       "2      BR  \n",
       "3      BR  \n",
       "4      BR  \n",
       "5      BR  \n",
       "6      BR  \n",
       "8      UZ  "
      ]
     },
     "execution_count": 6,
     "metadata": {},
     "output_type": "execute_result"
    }
   ],
   "source": [
    "from csv import excel_tab\n",
    "\n",
    "\n",
    "hotel_df = pd.DataFrame()\n",
    "hotel_df['Hotel Name'] = ''\n",
    "hotel_df['Lat'] = ''\n",
    "hotel_df['Lng'] = ''\n",
    "hotel_df['City'] = ''\n",
    "hotel_df['Country'] = ''\n",
    "params = {\n",
    "    'radius' : 5000,\n",
    "    'keyword' : 'hotel',\n",
    "    'key' : g_key,\n",
    "}\n",
    "base_url = \"https://maps.googleapis.com/maps/api/place/nearbysearch/json\"\n",
    "\n",
    "for index, row in ideal_weather_df.iterrows():\n",
    "    params['location'] = f\"{row['Latitude']}, {row['Longitude']}\"\n",
    "    response = requests.get(base_url, params=params).json()\n",
    "    try:\n",
    "        hotel_df.loc[index, 'Hotel Name'] = response['results'][0]['name']\n",
    "        hotel_df.loc[index, 'Lat'] = response['results'][0]['geometry']['location']['lat']\n",
    "        hotel_df.loc[index, 'Lng'] = response['results'][0]['geometry']['location']['lng']\n",
    "        hotel_df.loc[index, 'City'] = row['City']\n",
    "        hotel_df.loc[index, 'Country'] = row['Country']\n",
    "    except:\n",
    "        continue\n",
    "\n",
    "hotel_df"
   ]
  },
  {
   "cell_type": "code",
   "execution_count": 7,
   "metadata": {},
   "outputs": [],
   "source": [
    "# NOTE: Do not change any of the code in this cell\n",
    "\n",
    "# Using the template add the hotel marks to the heatmap\n",
    "info_box_template = \"\"\"\n",
    "<dl>\n",
    "<dt>Name</dt><dd>{Hotel Name}</dd>\n",
    "<dt>City</dt><dd>{City}</dd>\n",
    "<dt>Country</dt><dd>{Country}</dd>\n",
    "</dl>\n",
    "\"\"\"\n",
    "# Store the DataFrame Row\n",
    "# NOTE: be sure to update with your DataFrame name\n",
    "hotel_info = [info_box_template.format(**row) for index, row in hotel_df.iterrows()]\n",
    "locations = hotel_df[[\"Lat\", \"Lng\"]]"
   ]
  },
  {
   "cell_type": "code",
   "execution_count": 8,
   "metadata": {},
   "outputs": [
    {
     "data": {
      "application/vnd.jupyter.widget-view+json": {
       "model_id": "8b1169dd0fc5468086ac606e7ac70f78",
       "version_major": 2,
       "version_minor": 0
      },
      "text/plain": [
       "Figure(layout=FigureLayout(height='420px'))"
      ]
     },
     "metadata": {},
     "output_type": "display_data"
    }
   ],
   "source": [
    "# Add marker layer ontop of heat map\n",
    "markers = gmaps.marker_layer(locations, info_box_content=hotel_info)\n",
    "fig.add_layer(markers)\n",
    "# Display figure\n",
    "fig"
   ]
  },
  {
   "cell_type": "code",
   "execution_count": null,
   "metadata": {},
   "outputs": [],
   "source": []
  }
 ],
 "metadata": {
  "kernelspec": {
   "display_name": "Python 3.9.12 ('base')",
   "language": "python",
   "name": "python3"
  },
  "language_info": {
   "codemirror_mode": {
    "name": "ipython",
    "version": 3
   },
   "file_extension": ".py",
   "mimetype": "text/x-python",
   "name": "python",
   "nbconvert_exporter": "python",
   "pygments_lexer": "ipython3",
   "version": "3.9.12"
  },
  "latex_envs": {
   "LaTeX_envs_menu_present": true,
   "autoclose": false,
   "autocomplete": true,
   "bibliofile": "biblio.bib",
   "cite_by": "apalike",
   "current_citInitial": 1,
   "eqLabelWithNumbers": true,
   "eqNumInitial": 1,
   "hotkeys": {
    "equation": "Ctrl-E",
    "itemize": "Ctrl-I"
   },
   "labels_anchors": false,
   "latex_user_defs": false,
   "report_style_numbering": false,
   "user_envs_cfg": false
  },
  "vscode": {
   "interpreter": {
    "hash": "30b1c3b492f40982a7e28b3d0ce22bed4c462ba3c1154a8be24fedf63069c4c6"
   }
  }
 },
 "nbformat": 4,
 "nbformat_minor": 4
}
